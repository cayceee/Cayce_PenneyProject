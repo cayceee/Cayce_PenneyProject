{
  "nbformat": 4,
  "nbformat_minor": 0,
  "metadata": {
    "colab": {
      "provenance": []
    },
    "kernelspec": {
      "name": "python3",
      "display_name": "Python 3"
    },
    "language_info": {
      "name": "python"
    }
  },
  "cells": [
    {
      "cell_type": "code",
      "execution_count": 1,
      "metadata": {
        "colab": {
          "base_uri": "https://localhost:8080/"
        },
        "id": "IhhJrEE666uF",
        "outputId": "12a9d571-4525-4a1e-ee72-e24e25a752ee"
      },
      "outputs": [
        {
          "output_type": "stream",
          "name": "stdout",
          "text": [
            "makeDecks was called with:\n",
            "Positional arguments:\n",
            " ()\n",
            "Keyword arguments:\n",
            " {}\n",
            "makeDecks ran for 0:00:05.320653\n",
            "First deck: [0, 1, 1, 0, 0, 0, 0, 1, 0, 0, 1, 1, 0, 0, 1, 0, 1, 1, 1, 0, 1, 0, 0, 1, 1, 1, 0, 0, 1, 1, 1, 1, 1, 0, 1, 1, 0, 1, 1, 0, 1, 1, 0, 0, 0, 0, 0, 1, 0, 0, 0, 1]\n",
            "Last deck: [1, 0, 0, 0, 1, 1, 1, 1, 0, 0, 0, 1, 0, 0, 0, 0, 0, 1, 1, 1, 1, 1, 0, 0, 1, 1, 0, 0, 1, 0, 0, 0, 1, 1, 0, 0, 1, 1, 1, 0, 0, 1, 1, 0, 1, 0, 0, 1, 1, 1, 0, 1]\n"
          ]
        }
      ],
      "source": [
        "### DATA GENERATION ###\n",
        "\n",
        "# FUNCTIONS #\n",
        "\n",
        "import numpy as np\n",
        "import random\n",
        "from datetime import datetime as dt\n",
        "from typing import Callable\n",
        "import os\n",
        "\n",
        "\n",
        "DEBUG = True\n",
        "def debugger_factory(show_args=True) -> Callable:\n",
        "    def debugger(func:Callable) -> Callable:\n",
        "        if DEBUG:\n",
        "            def wrapper(*args, **kwargs):\n",
        "                if show_args:\n",
        "                    print(f'{func.__name__} was called with:')\n",
        "                    print('Positional arguments:\\n', args)\n",
        "                    print('Keyword arguments:\\n', kwargs)\n",
        "\n",
        "                t0 = dt.now()\n",
        "                results = func(*args, **kwargs)\n",
        "                print(f'{func.__name__} ran for {dt.now()-t0}')\n",
        "                return results\n",
        "        else:\n",
        "            return func\n",
        "        return wrapper\n",
        "    return debugger\n",
        "\n",
        "\n",
        "\n",
        "def initial_deck(n = 26):\n",
        "  \"\"\"\n",
        "  Creates the initial, unshuffled deck, with 0's and 1's representing black and red cards.\n",
        "  The values of the cards are arbitrary with respect to the game.\n",
        "  The deck is returned as 'initial_deck', a list.\n",
        "  \"\"\"\n",
        "  initial_deck = [0]*n + [1]*n\n",
        "  return initial_deck\n",
        "\n",
        "\n",
        "\n",
        "\n",
        "def resetSeed():\n",
        "  \"\"\"\n",
        "  Resets the random seed and returns the new current seed as 'ranstate', a tuple representing the seed.\n",
        "  Using the 'random.setstate()' function, the seed can be set by filling in the function with the 'ranstate' tuple.\n",
        "  \"\"\"\n",
        "\n",
        "  random.seed(None)\n",
        "  ranstate = random.getstate()\n",
        "  return ranstate\n",
        "\n",
        "\n",
        "def saveRanstate(ranState, filename, directory):\n",
        "  \"\"\"\n",
        "  Turns the 'ranstate' tuple into a string before creating a txt file of that new 'ranstate' string.\n",
        "  This is then downloaded to the local file directory for storage purposes and reprodubility.\n",
        "  \"\"\"\n",
        "\n",
        "  if not os.path.exists(directory):\n",
        "      os.makedirs(directory)\n",
        "\n",
        "  file_path = os.path.join(directory, filename)\n",
        "\n",
        "  with open(file_path, 'w') as file:\n",
        "      file.write(str(ranState))\n",
        "\n",
        "\n",
        "\n",
        "@debugger_factory()\n",
        "\n",
        "\n",
        "\n",
        "def makeDecks(v = 100000):\n",
        "    \"\"\"\n",
        "    Makes a v amount of decks, set to 100,000 by default.\n",
        "    Presents 'decks' as a tuple of the deck lists.\n",
        "    \"\"\"\n",
        "    decks = []\n",
        "    for i in range(v):\n",
        "      newDeck = initial_deck()\n",
        "      random.shuffle(newDeck)\n",
        "      decks.append(newDeck)\n",
        "\n",
        "    return decks\n",
        "\n",
        "# Sample Main for Code Generation\n",
        "\n",
        "ranstate = resetSeed()\n",
        "\n",
        "decks = makeDecks()\n",
        "print(\"First deck:\", decks[0])\n",
        "print(\"Last deck:\", decks[99999])"
      ]
    },
    {
      "cell_type": "code",
      "source": [
        "### DATA STORAGE ###\n",
        "\n",
        "# WARNING: Running this cell will download a file to your local directory. The file is a simple txt file, but this is a warning that a file will be downloaded regardless.\n",
        "\n",
        "\n",
        "filename = \"[Insert Simulation Name or Indicator].txt\" # Replace Filename. Filename should be an indicator made in uniform with the rest of the simulation\n",
        "directory = \"[Unique Simulation Folder Name]\" # Replace directory with Folder name. Folder name should be a unique one that stores the information from this unique run of the simulation\n",
        "saveRanstate(ranstate, filename, directory)\n"
      ],
      "metadata": {
        "id": "Fily1QRpjQtT"
      },
      "execution_count": 2,
      "outputs": []
    }
  ]
}